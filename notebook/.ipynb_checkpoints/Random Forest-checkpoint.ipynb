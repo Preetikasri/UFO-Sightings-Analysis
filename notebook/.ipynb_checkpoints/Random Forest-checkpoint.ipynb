{
 "cells": [
  {
   "cell_type": "markdown",
   "metadata": {},
   "source": [
    "### Random Forest"
   ]
  },
  {
   "cell_type": "code",
   "execution_count": 1,
   "metadata": {},
   "outputs": [
    {
     "name": "stdout",
     "output_type": "stream",
     "text": [
      "Populating the interactive namespace from numpy and matplotlib\n"
     ]
    }
   ],
   "source": [
    "from pandas import Series, DataFrame\n",
    "import pandas as pd\n",
    "from patsy import dmatrices\n",
    "import warnings\n",
    "%pylab inline\n",
    "warnings.filterwarnings('ignore')"
   ]
  },
  {
   "cell_type": "code",
   "execution_count": 2,
   "metadata": {},
   "outputs": [],
   "source": [
    "df = pd.read_csv('../data/full_final_UFO.csv')"
   ]
  },
  {
   "cell_type": "code",
   "execution_count": 3,
   "metadata": {},
   "outputs": [
    {
     "data": {
      "text/plain": [
       "array(['Unnamed: 0', 'datetime', 'city', 'state', 'country', 'shape',\n",
       "       'duration (seconds)', 'duration (hours/min)', 'comments',\n",
       "       'date posted', 'latitude', 'longitude ', 'date_pd', 'time_pd',\n",
       "       'days_lapsed_after_sighting', 'dow_sighting', 'Month_sighting',\n",
       "       'hour_sighting', 'label', 'phase', 'phaseid', 'index', 'STATE',\n",
       "       'EVENT_TYPE', 'Extreme_Weather', 'Proximity to USAFB'],\n",
       "      dtype=object)"
      ]
     },
     "execution_count": 3,
     "metadata": {},
     "output_type": "execute_result"
    }
   ],
   "source": [
    "df.columns.values"
   ]
  },
  {
   "cell_type": "code",
   "execution_count": 4,
   "metadata": {},
   "outputs": [],
   "source": [
    "new_df = df.drop(['Unnamed: 0', 'city','duration (hours/min)','latitude','longitude ','phaseid','index','STATE','EVENT_TYPE'], axis=1)\n",
    "new_df['date_pd'] = pd.to_datetime(new_df['date_pd'])"
   ]
  },
  {
   "cell_type": "code",
   "execution_count": 5,
   "metadata": {},
   "outputs": [
    {
     "data": {
      "text/html": [
       "<div>\n",
       "<style scoped>\n",
       "    .dataframe tbody tr th:only-of-type {\n",
       "        vertical-align: middle;\n",
       "    }\n",
       "\n",
       "    .dataframe tbody tr th {\n",
       "        vertical-align: top;\n",
       "    }\n",
       "\n",
       "    .dataframe thead th {\n",
       "        text-align: right;\n",
       "    }\n",
       "</style>\n",
       "<table border=\"1\" class=\"dataframe\">\n",
       "  <thead>\n",
       "    <tr style=\"text-align: right;\">\n",
       "      <th></th>\n",
       "      <th>datetime</th>\n",
       "      <th>state</th>\n",
       "      <th>country</th>\n",
       "      <th>shape</th>\n",
       "      <th>duration (seconds)</th>\n",
       "      <th>comments</th>\n",
       "      <th>date posted</th>\n",
       "      <th>date_pd</th>\n",
       "      <th>time_pd</th>\n",
       "      <th>days_lapsed_after_sighting</th>\n",
       "      <th>dow_sighting</th>\n",
       "      <th>Month_sighting</th>\n",
       "      <th>hour_sighting</th>\n",
       "      <th>label</th>\n",
       "      <th>phase</th>\n",
       "      <th>Extreme_Weather</th>\n",
       "      <th>Proximity to USAFB</th>\n",
       "    </tr>\n",
       "  </thead>\n",
       "  <tbody>\n",
       "    <tr>\n",
       "      <th>0</th>\n",
       "      <td>10/10/1984 5:00</td>\n",
       "      <td>tx</td>\n",
       "      <td>us</td>\n",
       "      <td>circle</td>\n",
       "      <td>60.0</td>\n",
       "      <td>2 experience with unkown</td>\n",
       "      <td>4/18/2012</td>\n",
       "      <td>1984-10-10</td>\n",
       "      <td>5:00</td>\n",
       "      <td>10052</td>\n",
       "      <td>Wednesday</td>\n",
       "      <td>10</td>\n",
       "      <td>5</td>\n",
       "      <td>0</td>\n",
       "      <td>Full Moon</td>\n",
       "      <td>1</td>\n",
       "      <td>175.555426</td>\n",
       "    </tr>\n",
       "    <tr>\n",
       "      <th>1</th>\n",
       "      <td>10/10/1984 12:00</td>\n",
       "      <td>mi</td>\n",
       "      <td>us</td>\n",
       "      <td>other</td>\n",
       "      <td>120.0</td>\n",
       "      <td>translucent football seen over city airport</td>\n",
       "      <td>10/7/2003</td>\n",
       "      <td>1984-10-10</td>\n",
       "      <td>12:00</td>\n",
       "      <td>6936</td>\n",
       "      <td>Wednesday</td>\n",
       "      <td>10</td>\n",
       "      <td>12</td>\n",
       "      <td>0</td>\n",
       "      <td>Full Moon</td>\n",
       "      <td>0</td>\n",
       "      <td>284.580647</td>\n",
       "    </tr>\n",
       "    <tr>\n",
       "      <th>2</th>\n",
       "      <td>10/10/1984 22:00</td>\n",
       "      <td>ny</td>\n",
       "      <td>us</td>\n",
       "      <td>formation</td>\n",
       "      <td>20.0</td>\n",
       "      <td>Saw a hugh object in sky with lights intermitt...</td>\n",
       "      <td>8/10/1999</td>\n",
       "      <td>1984-10-10</td>\n",
       "      <td>22:00</td>\n",
       "      <td>5417</td>\n",
       "      <td>Wednesday</td>\n",
       "      <td>10</td>\n",
       "      <td>22</td>\n",
       "      <td>0</td>\n",
       "      <td>Full Moon</td>\n",
       "      <td>0</td>\n",
       "      <td>81.344695</td>\n",
       "    </tr>\n",
       "    <tr>\n",
       "      <th>3</th>\n",
       "      <td>10/10/1988 18:00</td>\n",
       "      <td>wi</td>\n",
       "      <td>us</td>\n",
       "      <td>triangle</td>\n",
       "      <td>600.0</td>\n",
       "      <td>A silent black triangular object with no light...</td>\n",
       "      <td>8/7/2007</td>\n",
       "      <td>1988-10-10</td>\n",
       "      <td>18:00</td>\n",
       "      <td>6875</td>\n",
       "      <td>Monday</td>\n",
       "      <td>10</td>\n",
       "      <td>18</td>\n",
       "      <td>0</td>\n",
       "      <td>New Moon</td>\n",
       "      <td>0</td>\n",
       "      <td>187.550150</td>\n",
       "    </tr>\n",
       "    <tr>\n",
       "      <th>4</th>\n",
       "      <td>10/10/1988 21:00</td>\n",
       "      <td>me</td>\n",
       "      <td>us</td>\n",
       "      <td>unknown</td>\n",
       "      <td>120.0</td>\n",
       "      <td>I&amp;#39m still afraid to look at the sky at night.</td>\n",
       "      <td>1/10/2009</td>\n",
       "      <td>1988-10-10</td>\n",
       "      <td>21:00</td>\n",
       "      <td>7397</td>\n",
       "      <td>Monday</td>\n",
       "      <td>10</td>\n",
       "      <td>21</td>\n",
       "      <td>0</td>\n",
       "      <td>New Moon</td>\n",
       "      <td>0</td>\n",
       "      <td>115.328167</td>\n",
       "    </tr>\n",
       "  </tbody>\n",
       "</table>\n",
       "</div>"
      ],
      "text/plain": [
       "           datetime state country      shape  duration (seconds)  \\\n",
       "0   10/10/1984 5:00    tx      us     circle                60.0   \n",
       "1  10/10/1984 12:00    mi      us      other               120.0   \n",
       "2  10/10/1984 22:00    ny      us  formation                20.0   \n",
       "3  10/10/1988 18:00    wi      us   triangle               600.0   \n",
       "4  10/10/1988 21:00    me      us    unknown               120.0   \n",
       "\n",
       "                                            comments date posted    date_pd  \\\n",
       "0                           2 experience with unkown   4/18/2012 1984-10-10   \n",
       "1        translucent football seen over city airport   10/7/2003 1984-10-10   \n",
       "2  Saw a hugh object in sky with lights intermitt...   8/10/1999 1984-10-10   \n",
       "3  A silent black triangular object with no light...    8/7/2007 1988-10-10   \n",
       "4   I&#39m still afraid to look at the sky at night.   1/10/2009 1988-10-10   \n",
       "\n",
       "  time_pd  days_lapsed_after_sighting dow_sighting  Month_sighting  \\\n",
       "0    5:00                       10052    Wednesday              10   \n",
       "1   12:00                        6936    Wednesday              10   \n",
       "2   22:00                        5417    Wednesday              10   \n",
       "3   18:00                        6875       Monday              10   \n",
       "4   21:00                        7397       Monday              10   \n",
       "\n",
       "   hour_sighting  label      phase  Extreme_Weather  Proximity to USAFB  \n",
       "0              5      0  Full Moon                1          175.555426  \n",
       "1             12      0  Full Moon                0          284.580647  \n",
       "2             22      0  Full Moon                0           81.344695  \n",
       "3             18      0   New Moon                0          187.550150  \n",
       "4             21      0   New Moon                0          115.328167  "
      ]
     },
     "execution_count": 5,
     "metadata": {},
     "output_type": "execute_result"
    }
   ],
   "source": [
    "new_df[:5]"
   ]
  },
  {
   "cell_type": "markdown",
   "metadata": {},
   "source": [
    "#### EDA"
   ]
  },
  {
   "cell_type": "code",
   "execution_count": 6,
   "metadata": {},
   "outputs": [
    {
     "data": {
      "text/plain": [
       "<matplotlib.axes._subplots.AxesSubplot at 0x9d546d8>"
      ]
     },
     "execution_count": 6,
     "metadata": {},
     "output_type": "execute_result"
    },
    {
     "data": {
      "image/png": "[encoded data removed]",
      "text/plain": [
       "<Figure size 432x288 with 1 Axes>"
      ]
     },
     "metadata": {},
     "output_type": "display_data"
    }
   ],
   "source": [
    "new_df['state'].value_counts()[:10].plot(kind='bar')"
   ]
  },
  {
   "cell_type": "code",
   "execution_count": 7,
   "metadata": {},
   "outputs": [
    {
     "data": {
      "text/plain": [
       "<matplotlib.axes._subplots.AxesSubplot at 0xc049da0>"
      ]
     },
     "execution_count": 7,
     "metadata": {},
     "output_type": "execute_result"
    },
    {
     "data": {
      "image/png": "[encoded data removed]",
      "text/plain": [
       "<Figure size 432x288 with 1 Axes>"
      ]
     },
     "metadata": {},
     "output_type": "display_data"
    }
   ],
   "source": [
    "df['city'].value_counts()[:10].plot(kind='bar')"
   ]
  },
  {
   "cell_type": "code",
   "execution_count": 8,
   "metadata": {},
   "outputs": [
    {
     "data": {
      "text/plain": [
       "<matplotlib.axes._subplots.AxesSubplot at 0xa07be10>"
      ]
     },
     "execution_count": 8,
     "metadata": {},
     "output_type": "execute_result"
    },
    {
     "data": {
      "image/png": "[encoded data removed]",
      "text/plain": [
       "<Figure size 432x288 with 1 Axes>"
      ]
     },
     "metadata": {},
     "output_type": "display_data"
    }
   ],
   "source": [
    "new_df['shape'].value_counts()[:10].plot(kind='bar')"
   ]
  },
  {
   "cell_type": "code",
   "execution_count": 9,
   "metadata": {},
   "outputs": [
    {
     "data": {
      "text/plain": [
       "<matplotlib.axes._subplots.AxesSubplot at 0x9e4e3c8>"
      ]
     },
     "execution_count": 9,
     "metadata": {},
     "output_type": "execute_result"
    },
    {
     "data": {
      "image/png": "[encoded data removed]",
      "text/plain": [
       "<Figure size 432x288 with 1 Axes>"
      ]
     },
     "metadata": {},
     "output_type": "display_data"
    }
   ],
   "source": [
    "new_df['phase'].value_counts().plot(kind='bar')"
   ]
  },
  {
   "cell_type": "code",
   "execution_count": 10,
   "metadata": {
    "scrolled": true
   },
   "outputs": [
    {
     "data": {
      "image/png": "[encoded data removed]",
      "text/plain": [
       "<Figure size 432x288 with 1 Axes>"
      ]
     },
     "metadata": {},
     "output_type": "display_data"
    }
   ],
   "source": [
    "df['EVENT_TYPE'].value_counts()[:10].plot(kind='bar')\n",
    "show()"
   ]
  },
  {
   "cell_type": "code",
   "execution_count": 11,
   "metadata": {
    "scrolled": true
   },
   "outputs": [
    {
     "data": {
      "text/plain": [
       "<matplotlib.axes._subplots.AxesSubplot at 0xc43d828>"
      ]
     },
     "execution_count": 11,
     "metadata": {},
     "output_type": "execute_result"
    },
    {
     "data": {
      "image/png": "[encoded data removed]",
      "text/plain": [
       "<Figure size 432x288 with 1 Axes>"
      ]
     },
     "metadata": {},
     "output_type": "display_data"
    }
   ],
   "source": [
    "bins=[0,10,50,100,150,200,500,1000,1500,2000,2500]\n",
    "df['Proximity to USAFB bins'] = pd.cut(new_df['Proximity to USAFB'],bins)\n",
    "df['Proximity to USAFB bins'].value_counts().plot(kind='bar')"
   ]
  },
  {
   "cell_type": "code",
   "execution_count": 25,
   "metadata": {},
   "outputs": [
    {
     "data": {
      "text/plain": [
       "<matplotlib.axes._subplots.AxesSubplot at 0xee87400>"
      ]
     },
     "execution_count": 25,
     "metadata": {},
     "output_type": "execute_result"
    },
    {
     "data": {
      "image/png": "[encoded data removed]",
      "text/plain": [
       "<Figure size 432x288 with 2 Axes>"
      ]
     },
     "metadata": {},
     "output_type": "display_data"
    }
   ],
   "source": [
    "import seaborn as sns\n",
    "dow_hour_heat = pd.crosstab(new_df['hour_sighting'],new_df['dow_sighting']).iloc[::-1]\n",
    "dow_hour_heat = dow_hour_heat[['Sunday','Monday','Tuesday','Wednesday','Thursday','Friday','Saturday']]\n",
    "sns.heatmap(dow_hour_heat,cmap=\"YlGnBu\")"
   ]
  },
  {
   "cell_type": "code",
   "execution_count": 32,
   "metadata": {},
   "outputs": [
    {
     "data": {
      "text/plain": [
       "<matplotlib.axes._subplots.AxesSubplot at 0x116534a8>"
      ]
     },
     "execution_count": 32,
     "metadata": {},
     "output_type": "execute_result"
    },
    {
     "data": {
      "image/png": "[encoded data removed]",
      "text/plain": [
       "<Figure size 432x288 with 2 Axes>"
      ]
     },
     "metadata": {},
     "output_type": "display_data"
    }
   ],
   "source": [
    "month_dow_heat = pd.crosstab(new_df['Month_sighting'],new_df['dow_sighting'])\n",
    "month_dow_heat =month_dow_heat[['Sunday','Monday','Tuesday','Wednesday','Thursday','Friday','Saturday']].T.iloc[::-1]\n",
    "sns.heatmap(month_dow_heat,cmap=\"YlGnBu\")"
   ]
  },
  {
   "cell_type": "markdown",
   "metadata": {},
   "source": [
    "#### Random Forest"
   ]
  },
  {
   "cell_type": "code",
   "execution_count": 57,
   "metadata": {},
   "outputs": [],
   "source": [
    "features = ['state','shape','duration (seconds)','date_pd','time_pd','days_lapsed_after_sighting','dow_sighting','phase' ,'Extreme_Weather','Proximity to USAFB']"
   ]
  },
  {
   "cell_type": "code",
   "execution_count": 58,
   "metadata": {},
   "outputs": [],
   "source": [
    "Y, X = dmatrices('label~0 + state + shape + Q(\"duration (seconds)\") + date_pd + time_pd + days_lapsed_after_sighting + dow_sighting + phase + Extreme_Weather + Q(\"Proximity to USAFB\")', new_df, return_type='dataframe')\n",
    "y = Y['label'].values"
   ]
  },
  {
   "cell_type": "code",
   "execution_count": 59,
   "metadata": {},
   "outputs": [],
   "source": [
    "from sklearn.model_selection import train_test_split\n",
    "X_train, X_test, y_train, y_test = train_test_split(X, y, test_size=0.5, stratify = y,random_state=99)"
   ]
  },
  {
   "cell_type": "code",
   "execution_count": 60,
   "metadata": {},
   "outputs": [],
   "source": [
    "from sklearn import ensemble\n",
    "model = ensemble.RandomForestClassifier(random_state=99)\n",
    "result = model.fit(X_train, y_train)"
   ]
  },
  {
   "cell_type": "code",
   "execution_count": 61,
   "metadata": {},
   "outputs": [
    {
     "name": "stdout",
     "output_type": "stream",
     "text": [
      "0.992828418230563\n"
     ]
    }
   ],
   "source": [
    "from sklearn import metrics\n",
    "\n",
    "prediction_train = model.predict(X_train)\n",
    "print metrics.accuracy_score(y_train, prediction_train)"
   ]
  },
  {
   "cell_type": "code",
   "execution_count": 62,
   "metadata": {
    "scrolled": true
   },
   "outputs": [
    {
     "data": {
      "text/html": [
       "<div>\n",
       "<style scoped>\n",
       "    .dataframe tbody tr th:only-of-type {\n",
       "        vertical-align: middle;\n",
       "    }\n",
       "\n",
       "    .dataframe tbody tr th {\n",
       "        vertical-align: top;\n",
       "    }\n",
       "\n",
       "    .dataframe thead th {\n",
       "        text-align: right;\n",
       "    }\n",
       "</style>\n",
       "<table border=\"1\" class=\"dataframe\">\n",
       "  <thead>\n",
       "    <tr style=\"text-align: right;\">\n",
       "      <th>Prediction</th>\n",
       "      <th>0.0</th>\n",
       "      <th>1.0</th>\n",
       "    </tr>\n",
       "    <tr>\n",
       "      <th>Actual</th>\n",
       "      <th></th>\n",
       "      <th></th>\n",
       "    </tr>\n",
       "  </thead>\n",
       "  <tbody>\n",
       "    <tr>\n",
       "      <th>0.0</th>\n",
       "      <td>28782</td>\n",
       "      <td>4</td>\n",
       "    </tr>\n",
       "    <tr>\n",
       "      <th>1.0</th>\n",
       "      <td>210</td>\n",
       "      <td>844</td>\n",
       "    </tr>\n",
       "  </tbody>\n",
       "</table>\n",
       "</div>"
      ],
      "text/plain": [
       "Prediction    0.0  1.0\n",
       "Actual                \n",
       "0.0         28782    4\n",
       "1.0           210  844"
      ]
     },
     "execution_count": 62,
     "metadata": {},
     "output_type": "execute_result"
    }
   ],
   "source": [
    "pd.crosstab(y_train,prediction_train,rownames=['Actual'],colnames=['Prediction'])"
   ]
  },
  {
   "cell_type": "code",
   "execution_count": 63,
   "metadata": {},
   "outputs": [
    {
     "name": "stdout",
     "output_type": "stream",
     "text": [
      "0.9659528836165008\n"
     ]
    }
   ],
   "source": [
    "prediction_test = model.predict(X_test)\n",
    "print metrics.accuracy_score(y_test, prediction_test)"
   ]
  },
  {
   "cell_type": "code",
   "execution_count": 64,
   "metadata": {
    "scrolled": true
   },
   "outputs": [
    {
     "data": {
      "text/html": [
       "<div>\n",
       "<style scoped>\n",
       "    .dataframe tbody tr th:only-of-type {\n",
       "        vertical-align: middle;\n",
       "    }\n",
       "\n",
       "    .dataframe tbody tr th {\n",
       "        vertical-align: top;\n",
       "    }\n",
       "\n",
       "    .dataframe thead th {\n",
       "        text-align: right;\n",
       "    }\n",
       "</style>\n",
       "<table border=\"1\" class=\"dataframe\">\n",
       "  <thead>\n",
       "    <tr style=\"text-align: right;\">\n",
       "      <th>Prediction</th>\n",
       "      <th>0.0</th>\n",
       "      <th>1.0</th>\n",
       "    </tr>\n",
       "    <tr>\n",
       "      <th>Actual</th>\n",
       "      <th></th>\n",
       "      <th></th>\n",
       "    </tr>\n",
       "  </thead>\n",
       "  <tbody>\n",
       "    <tr>\n",
       "      <th>0.0</th>\n",
       "      <td>28732</td>\n",
       "      <td>54</td>\n",
       "    </tr>\n",
       "    <tr>\n",
       "      <th>1.0</th>\n",
       "      <td>962</td>\n",
       "      <td>93</td>\n",
       "    </tr>\n",
       "  </tbody>\n",
       "</table>\n",
       "</div>"
      ],
      "text/plain": [
       "Prediction    0.0  1.0\n",
       "Actual                \n",
       "0.0         28732   54\n",
       "1.0           962   93"
      ]
     },
     "execution_count": 64,
     "metadata": {},
     "output_type": "execute_result"
    }
   ],
   "source": [
    "pd.crosstab(y_test,prediction_test,rownames=['Actual'],colnames=['Prediction'])"
   ]
  },
  {
   "cell_type": "code",
   "execution_count": 65,
   "metadata": {},
   "outputs": [
    {
     "name": "stdout",
     "output_type": "stream",
     "text": [
      "             precision    recall  f1-score   support\n",
      "\n",
      "        0.0       0.97      1.00      0.98     28786\n",
      "        1.0       0.63      0.09      0.15      1055\n",
      "\n",
      "avg / total       0.96      0.97      0.95     29841\n",
      "\n"
     ]
    }
   ],
   "source": [
    "from sklearn.metrics import classification_report\n",
    "print(classification_report(y_test,prediction_test))"
   ]
  },
  {
   "cell_type": "markdown",
   "metadata": {},
   "source": [
    "#### Changing the threshold to 0.3"
   ]
  },
  {
   "cell_type": "code",
   "execution_count": 79,
   "metadata": {},
   "outputs": [
    {
     "name": "stdout",
     "output_type": "stream",
     "text": [
      "0.9986930294906167\n"
     ]
    }
   ],
   "source": [
    "predicted_prob_train = model.predict_proba(X_train)\n",
    "prediction_mine_train = (predicted_prob_train[:,1] > 0.3).astype(int)\n",
    "print metrics.accuracy_score(y_train, prediction_mine_train)"
   ]
  },
  {
   "cell_type": "code",
   "execution_count": 80,
   "metadata": {},
   "outputs": [
    {
     "data": {
      "text/html": [
       "<div>\n",
       "<style scoped>\n",
       "    .dataframe tbody tr th:only-of-type {\n",
       "        vertical-align: middle;\n",
       "    }\n",
       "\n",
       "    .dataframe tbody tr th {\n",
       "        vertical-align: top;\n",
       "    }\n",
       "\n",
       "    .dataframe thead th {\n",
       "        text-align: right;\n",
       "    }\n",
       "</style>\n",
       "<table border=\"1\" class=\"dataframe\">\n",
       "  <thead>\n",
       "    <tr style=\"text-align: right;\">\n",
       "      <th>Prediction</th>\n",
       "      <th>0</th>\n",
       "      <th>1</th>\n",
       "    </tr>\n",
       "    <tr>\n",
       "      <th>Actual</th>\n",
       "      <th></th>\n",
       "      <th></th>\n",
       "    </tr>\n",
       "  </thead>\n",
       "  <tbody>\n",
       "    <tr>\n",
       "      <th>0.0</th>\n",
       "      <td>28770</td>\n",
       "      <td>16</td>\n",
       "    </tr>\n",
       "    <tr>\n",
       "      <th>1.0</th>\n",
       "      <td>23</td>\n",
       "      <td>1031</td>\n",
       "    </tr>\n",
       "  </tbody>\n",
       "</table>\n",
       "</div>"
      ],
      "text/plain": [
       "Prediction      0     1\n",
       "Actual                 \n",
       "0.0         28770    16\n",
       "1.0            23  1031"
      ]
     },
     "execution_count": 80,
     "metadata": {},
     "output_type": "execute_result"
    }
   ],
   "source": [
    "pd.crosstab(y_train,prediction_mine_train,rownames=['Actual'],colnames=['Prediction'])"
   ]
  },
  {
   "cell_type": "code",
   "execution_count": 81,
   "metadata": {},
   "outputs": [
    {
     "name": "stdout",
     "output_type": "stream",
     "text": [
      "0.9623672128950103\n"
     ]
    }
   ],
   "source": [
    "predicted_prob_test = model.predict_proba(X_test)\n",
    "prediction_mine_test = (predicted_prob_test[:,1] > 0.3).astype(int)\n",
    "print metrics.accuracy_score(y_test, prediction_mine_test)"
   ]
  },
  {
   "cell_type": "code",
   "execution_count": 82,
   "metadata": {
    "scrolled": true
   },
   "outputs": [
    {
     "data": {
      "text/html": [
       "<div>\n",
       "<style scoped>\n",
       "    .dataframe tbody tr th:only-of-type {\n",
       "        vertical-align: middle;\n",
       "    }\n",
       "\n",
       "    .dataframe tbody tr th {\n",
       "        vertical-align: top;\n",
       "    }\n",
       "\n",
       "    .dataframe thead th {\n",
       "        text-align: right;\n",
       "    }\n",
       "</style>\n",
       "<table border=\"1\" class=\"dataframe\">\n",
       "  <thead>\n",
       "    <tr style=\"text-align: right;\">\n",
       "      <th>Prediction</th>\n",
       "      <th>0</th>\n",
       "      <th>1</th>\n",
       "    </tr>\n",
       "    <tr>\n",
       "      <th>Actual</th>\n",
       "      <th></th>\n",
       "      <th></th>\n",
       "    </tr>\n",
       "  </thead>\n",
       "  <tbody>\n",
       "    <tr>\n",
       "      <th>0.0</th>\n",
       "      <td>28573</td>\n",
       "      <td>213</td>\n",
       "    </tr>\n",
       "    <tr>\n",
       "      <th>1.0</th>\n",
       "      <td>910</td>\n",
       "      <td>145</td>\n",
       "    </tr>\n",
       "  </tbody>\n",
       "</table>\n",
       "</div>"
      ],
      "text/plain": [
       "Prediction      0    1\n",
       "Actual                \n",
       "0.0         28573  213\n",
       "1.0           910  145"
      ]
     },
     "execution_count": 82,
     "metadata": {},
     "output_type": "execute_result"
    }
   ],
   "source": [
    "pd.crosstab(y_test,prediction_mine_test,rownames=['Actual'],colnames=['Prediction'])"
   ]
  },
  {
   "cell_type": "code",
   "execution_count": 83,
   "metadata": {
    "scrolled": true
   },
   "outputs": [
    {
     "name": "stdout",
     "output_type": "stream",
     "text": [
      "             precision    recall  f1-score   support\n",
      "\n",
      "        0.0       0.97      0.99      0.98     28786\n",
      "        1.0       0.41      0.14      0.21      1055\n",
      "\n",
      "avg / total       0.95      0.96      0.95     29841\n",
      "\n"
     ]
    }
   ],
   "source": [
    "from sklearn.metrics import classification_report\n",
    "print(classification_report(y_test,prediction_mine_test))"
   ]
  },
  {
   "cell_type": "markdown",
   "metadata": {},
   "source": [
    "#### Feature Importances"
   ]
  },
  {
   "cell_type": "code",
   "execution_count": 84,
   "metadata": {
    "scrolled": true
   },
   "outputs": [
    {
     "data": {
      "text/plain": [
       "[('time_pd', 0.008816826702568996),\n",
       " ('Proximity to USAFB', 0.004333685435155865),\n",
       " ('date_pd', 0.0030873332800792257),\n",
       " ('days_lapsed_after_sighting', 0.0015660276845944887),\n",
       " ('dow_sighting', 0.0013371050944698045),\n",
       " ('duration (seconds)', 0.001156750685950066),\n",
       " ('shape', 0.0007709070711945865),\n",
       " ('state', 0.00031583097526066494),\n",
       " ('Extreme_Weather', 4.488870358591768e-05),\n",
       " ('phase', 3.6930080371416805e-09)]"
      ]
     },
     "execution_count": 84,
     "metadata": {},
     "output_type": "execute_result"
    }
   ],
   "source": [
    "sorted(list(zip(features, model.feature_importances_)),reverse=True, key = lambda x:x[1])"
   ]
  },
  {
   "cell_type": "code",
   "execution_count": null,
   "metadata": {},
   "outputs": [],
   "source": []
  },
  {
   "cell_type": "code",
   "execution_count": null,
   "metadata": {},
   "outputs": [],
   "source": []
  }
 ],
 "metadata": {
  "kernelspec": {
   "display_name": "Python 2",
   "language": "python",
   "name": "python2"
  },
  "language_info": {
   "codemirror_mode": {
    "name": "ipython",
    "version": 2
   },
   "file_extension": ".py",
   "mimetype": "text/x-python",
   "name": "python",
   "nbconvert_exporter": "python",
   "pygments_lexer": "ipython2",
   "version": "2.7.15"
  }
 },
 "nbformat": 4,
 "nbformat_minor": 2
}
