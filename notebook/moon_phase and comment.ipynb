{
 "cells": [
  {
   "cell_type": "code",
   "execution_count": 1,
   "metadata": {},
   "outputs": [
    {
     "name": "stdout",
     "output_type": "stream",
     "text": [
      "Populating the interactive namespace from numpy and matplotlib\n"
     ]
    }
   ],
   "source": [
    "from pandas import Series, DataFrame\n",
    "import pandas as pd\n",
    "%pylab inline"
   ]
  },
  {
   "cell_type": "code",
   "execution_count": 4,
   "metadata": {},
   "outputs": [
    {
     "name": "stderr",
     "output_type": "stream",
     "text": [
      "C:\\Users\\Preetika\\Anaconda2\\lib\\site-packages\\IPython\\core\\interactiveshell.py:2718: DtypeWarning: Columns (5,9) have mixed types. Specify dtype option on import or set low_memory=False.\n",
      "  interactivity=interactivity, compiler=compiler, result=result)\n"
     ]
    }
   ],
   "source": [
    "df = pd.read_csv('../data/scrubbed.csv')"
   ]
  },
  {
   "cell_type": "code",
   "execution_count": 5,
   "metadata": {},
   "outputs": [
    {
     "data": {
      "text/plain": [
       "(63553, 11)"
      ]
     },
     "execution_count": 5,
     "metadata": {},
     "output_type": "execute_result"
    }
   ],
   "source": [
    "df=df[df['country']=='us']\n",
    "df=df.dropna()\n",
    "df.shape"
   ]
  },
  {
   "cell_type": "code",
   "execution_count": 19,
   "metadata": {},
   "outputs": [
    {
     "data": {
      "text/plain": [
       "array(['datetime', 'city', 'state', 'country', 'shape',\n",
       "       'duration (seconds)', 'duration (hours/min)', 'comments',\n",
       "       'date posted', 'latitude', 'longitude ', 'label'], dtype=object)"
      ]
     },
     "execution_count": 19,
     "metadata": {},
     "output_type": "execute_result"
    }
   ],
   "source": [
    "df['label'] = 0\n",
    "\n",
    "def has_comment(x):\n",
    "    if type(x) == str:\n",
    "        return ('NUFORC' in x)\n",
    "    else:\n",
    "        return False\n",
    "mask = df['comments'].map(has_comment)\n",
    "df.loc[mask,'label'] = 1\n",
    "df.columns.values"
   ]
  },
  {
   "cell_type": "code",
   "execution_count": 20,
   "metadata": {
    "collapsed": true
   },
   "outputs": [],
   "source": [
    "moon_phase = pd.read_csv('moon_phase.csv')\n",
    "moon_phase = moon_phase[['date','phase','phaseid']]\n",
    "moon_phase['date'] = pd.to_datetime(moon_phase['date'])\n",
    "moon_phase.set_index('date', inplace=True)\n",
    "moon_phase_all =  moon_phase.asfreq('D', 'pad').reset_index() "
   ]
  },
  {
   "cell_type": "code",
   "execution_count": 21,
   "metadata": {
    "collapsed": true
   },
   "outputs": [],
   "source": [
    "df['datetime'] = pd.to_datetime(df['datetime'])"
   ]
  },
  {
   "cell_type": "code",
   "execution_count": 22,
   "metadata": {
    "collapsed": true
   },
   "outputs": [],
   "source": [
    "df['index']=df.index"
   ]
  },
  {
   "cell_type": "code",
   "execution_count": 23,
   "metadata": {
    "collapsed": true
   },
   "outputs": [],
   "source": [
    "df_merge_moon = df.merge(moon_phase_all,left_on='datetime',\n",
    "                                    right_on='date')\n",
    "                                "
   ]
  },
  {
   "cell_type": "code",
   "execution_count": 24,
   "metadata": {
    "scrolled": false
   },
   "outputs": [
    {
     "data": {
      "text/html": [
       "<div>\n",
       "<style scoped>\n",
       "    .dataframe tbody tr th:only-of-type {\n",
       "        vertical-align: middle;\n",
       "    }\n",
       "\n",
       "    .dataframe tbody tr th {\n",
       "        vertical-align: top;\n",
       "    }\n",
       "\n",
       "    .dataframe thead th {\n",
       "        text-align: right;\n",
       "    }\n",
       "</style>\n",
       "<table border=\"1\" class=\"dataframe\">\n",
       "  <thead>\n",
       "    <tr style=\"text-align: right;\">\n",
       "      <th></th>\n",
       "      <th>datetime</th>\n",
       "      <th>city</th>\n",
       "      <th>state</th>\n",
       "      <th>country</th>\n",
       "      <th>shape</th>\n",
       "      <th>duration (seconds)</th>\n",
       "      <th>duration (hours/min)</th>\n",
       "      <th>comments</th>\n",
       "      <th>date posted</th>\n",
       "      <th>latitude</th>\n",
       "      <th>longitude</th>\n",
       "      <th>label</th>\n",
       "      <th>index</th>\n",
       "      <th>date</th>\n",
       "      <th>phase</th>\n",
       "      <th>phaseid</th>\n",
       "    </tr>\n",
       "  </thead>\n",
       "  <tbody>\n",
       "    <tr>\n",
       "      <th>0</th>\n",
       "      <td>1970-10-10</td>\n",
       "      <td>bellmore</td>\n",
       "      <td>ny</td>\n",
       "      <td>us</td>\n",
       "      <td>disk</td>\n",
       "      <td>1800</td>\n",
       "      <td>30 min.</td>\n",
       "      <td>silver disc seen by family and neighbors</td>\n",
       "      <td>5/11/2000</td>\n",
       "      <td>40.6686111</td>\n",
       "      <td>-73.527500</td>\n",
       "      <td>0</td>\n",
       "      <td>12</td>\n",
       "      <td>1970-10-10</td>\n",
       "      <td>First Quarter</td>\n",
       "      <td>2</td>\n",
       "    </tr>\n",
       "    <tr>\n",
       "      <th>1</th>\n",
       "      <td>1970-10-10</td>\n",
       "      <td>manchester</td>\n",
       "      <td>ky</td>\n",
       "      <td>us</td>\n",
       "      <td>unknown</td>\n",
       "      <td>180</td>\n",
       "      <td>3 minutes</td>\n",
       "      <td>Slow moving&amp;#44 silent craft accelerated at an...</td>\n",
       "      <td>2/14/2008</td>\n",
       "      <td>37.1536111</td>\n",
       "      <td>-83.761944</td>\n",
       "      <td>0</td>\n",
       "      <td>13</td>\n",
       "      <td>1970-10-10</td>\n",
       "      <td>First Quarter</td>\n",
       "      <td>2</td>\n",
       "    </tr>\n",
       "    <tr>\n",
       "      <th>2</th>\n",
       "      <td>1971-10-10</td>\n",
       "      <td>lexington</td>\n",
       "      <td>nc</td>\n",
       "      <td>us</td>\n",
       "      <td>oval</td>\n",
       "      <td>30</td>\n",
       "      <td>30 seconds</td>\n",
       "      <td>green oval shaped light over my local church&amp;#...</td>\n",
       "      <td>2/14/2010</td>\n",
       "      <td>35.8238889</td>\n",
       "      <td>-80.253611</td>\n",
       "      <td>0</td>\n",
       "      <td>14</td>\n",
       "      <td>1971-10-10</td>\n",
       "      <td>Full Moon</td>\n",
       "      <td>3</td>\n",
       "    </tr>\n",
       "    <tr>\n",
       "      <th>3</th>\n",
       "      <td>1972-10-10</td>\n",
       "      <td>harlan county</td>\n",
       "      <td>ky</td>\n",
       "      <td>us</td>\n",
       "      <td>circle</td>\n",
       "      <td>1200</td>\n",
       "      <td>20minutes</td>\n",
       "      <td>On october 10&amp;#44 1972 myself&amp;#44my 5yrs.daugh...</td>\n",
       "      <td>9/15/2005</td>\n",
       "      <td>36.8430556</td>\n",
       "      <td>-83.321944</td>\n",
       "      <td>0</td>\n",
       "      <td>15</td>\n",
       "      <td>1972-10-10</td>\n",
       "      <td>New Moon</td>\n",
       "      <td>1</td>\n",
       "    </tr>\n",
       "    <tr>\n",
       "      <th>4</th>\n",
       "      <td>1972-10-10</td>\n",
       "      <td>west bloomfield</td>\n",
       "      <td>mi</td>\n",
       "      <td>us</td>\n",
       "      <td>disk</td>\n",
       "      <td>120</td>\n",
       "      <td>2 minutes</td>\n",
       "      <td>The UFO was so close&amp;#44 my battery in the car...</td>\n",
       "      <td>8/14/2007</td>\n",
       "      <td>42.5377778</td>\n",
       "      <td>-83.233056</td>\n",
       "      <td>0</td>\n",
       "      <td>16</td>\n",
       "      <td>1972-10-10</td>\n",
       "      <td>New Moon</td>\n",
       "      <td>1</td>\n",
       "    </tr>\n",
       "    <tr>\n",
       "      <th>5</th>\n",
       "      <td>1973-10-10</td>\n",
       "      <td>niantic</td>\n",
       "      <td>ct</td>\n",
       "      <td>us</td>\n",
       "      <td>disk</td>\n",
       "      <td>1800</td>\n",
       "      <td>20-30 min</td>\n",
       "      <td>Oh&amp;#44 what a night &amp;#33  Two (2) saucer-shape...</td>\n",
       "      <td>9/24/2003</td>\n",
       "      <td>41.3252778</td>\n",
       "      <td>-72.193611</td>\n",
       "      <td>0</td>\n",
       "      <td>17</td>\n",
       "      <td>1973-10-10</td>\n",
       "      <td>First Quarter</td>\n",
       "      <td>2</td>\n",
       "    </tr>\n",
       "    <tr>\n",
       "      <th>6</th>\n",
       "      <td>1974-10-10</td>\n",
       "      <td>hudson</td>\n",
       "      <td>ma</td>\n",
       "      <td>us</td>\n",
       "      <td>other</td>\n",
       "      <td>2700</td>\n",
       "      <td>45 minutes</td>\n",
       "      <td>Not sure of the eact month or year of this sig...</td>\n",
       "      <td>8/10/1999</td>\n",
       "      <td>42.3916667</td>\n",
       "      <td>-71.566667</td>\n",
       "      <td>0</td>\n",
       "      <td>19</td>\n",
       "      <td>1974-10-10</td>\n",
       "      <td>Last Quarter</td>\n",
       "      <td>4</td>\n",
       "    </tr>\n",
       "    <tr>\n",
       "      <th>7</th>\n",
       "      <td>1974-10-10</td>\n",
       "      <td>hudson</td>\n",
       "      <td>ks</td>\n",
       "      <td>us</td>\n",
       "      <td>light</td>\n",
       "      <td>1200</td>\n",
       "      <td>one hour?</td>\n",
       "      <td>The light chased us.</td>\n",
       "      <td>7/25/2004</td>\n",
       "      <td>38.1055556</td>\n",
       "      <td>-98.659722</td>\n",
       "      <td>0</td>\n",
       "      <td>21</td>\n",
       "      <td>1974-10-10</td>\n",
       "      <td>Last Quarter</td>\n",
       "      <td>4</td>\n",
       "    </tr>\n",
       "    <tr>\n",
       "      <th>8</th>\n",
       "      <td>1975-10-10</td>\n",
       "      <td>north charleston</td>\n",
       "      <td>sc</td>\n",
       "      <td>us</td>\n",
       "      <td>light</td>\n",
       "      <td>360</td>\n",
       "      <td>5-6 minutes</td>\n",
       "      <td>Several Flashing UFO lights over Charleston Na...</td>\n",
       "      <td>2/14/2008</td>\n",
       "      <td>32.8544444</td>\n",
       "      <td>-79.975000</td>\n",
       "      <td>0</td>\n",
       "      <td>22</td>\n",
       "      <td>1975-10-10</td>\n",
       "      <td>New Moon</td>\n",
       "      <td>1</td>\n",
       "    </tr>\n",
       "    <tr>\n",
       "      <th>9</th>\n",
       "      <td>1976-10-10</td>\n",
       "      <td>washougal</td>\n",
       "      <td>wa</td>\n",
       "      <td>us</td>\n",
       "      <td>oval</td>\n",
       "      <td>60</td>\n",
       "      <td>1 minute</td>\n",
       "      <td>Three extremely large lights hanging above nea...</td>\n",
       "      <td>2/7/2014</td>\n",
       "      <td>45.5827778</td>\n",
       "      <td>-122.352222</td>\n",
       "      <td>0</td>\n",
       "      <td>23</td>\n",
       "      <td>1976-10-10</td>\n",
       "      <td>Full Moon</td>\n",
       "      <td>3</td>\n",
       "    </tr>\n",
       "  </tbody>\n",
       "</table>\n",
       "</div>"
      ],
      "text/plain": [
       "    datetime              city state country    shape duration (seconds)  \\\n",
       "0 1970-10-10          bellmore    ny      us     disk               1800   \n",
       "1 1970-10-10        manchester    ky      us  unknown                180   \n",
       "2 1971-10-10         lexington    nc      us     oval                 30   \n",
       "3 1972-10-10     harlan county    ky      us   circle               1200   \n",
       "4 1972-10-10   west bloomfield    mi      us     disk                120   \n",
       "5 1973-10-10           niantic    ct      us     disk               1800   \n",
       "6 1974-10-10            hudson    ma      us    other               2700   \n",
       "7 1974-10-10            hudson    ks      us    light               1200   \n",
       "8 1975-10-10  north charleston    sc      us    light                360   \n",
       "9 1976-10-10         washougal    wa      us     oval                 60   \n",
       "\n",
       "  duration (hours/min)                                           comments  \\\n",
       "0              30 min.           silver disc seen by family and neighbors   \n",
       "1            3 minutes  Slow moving&#44 silent craft accelerated at an...   \n",
       "2           30 seconds  green oval shaped light over my local church&#...   \n",
       "3            20minutes  On october 10&#44 1972 myself&#44my 5yrs.daugh...   \n",
       "4            2 minutes  The UFO was so close&#44 my battery in the car...   \n",
       "5            20-30 min  Oh&#44 what a night &#33  Two (2) saucer-shape...   \n",
       "6           45 minutes  Not sure of the eact month or year of this sig...   \n",
       "7            one hour?                               The light chased us.   \n",
       "8          5-6 minutes  Several Flashing UFO lights over Charleston Na...   \n",
       "9             1 minute  Three extremely large lights hanging above nea...   \n",
       "\n",
       "  date posted    latitude  longitude   label  index       date          phase  \\\n",
       "0   5/11/2000  40.6686111  -73.527500      0     12 1970-10-10  First Quarter   \n",
       "1   2/14/2008  37.1536111  -83.761944      0     13 1970-10-10  First Quarter   \n",
       "2   2/14/2010  35.8238889  -80.253611      0     14 1971-10-10      Full Moon   \n",
       "3   9/15/2005  36.8430556  -83.321944      0     15 1972-10-10       New Moon   \n",
       "4   8/14/2007  42.5377778  -83.233056      0     16 1972-10-10       New Moon   \n",
       "5   9/24/2003  41.3252778  -72.193611      0     17 1973-10-10  First Quarter   \n",
       "6   8/10/1999  42.3916667  -71.566667      0     19 1974-10-10   Last Quarter   \n",
       "7   7/25/2004  38.1055556  -98.659722      0     21 1974-10-10   Last Quarter   \n",
       "8   2/14/2008  32.8544444  -79.975000      0     22 1975-10-10       New Moon   \n",
       "9    2/7/2014  45.5827778 -122.352222      0     23 1976-10-10      Full Moon   \n",
       "\n",
       "   phaseid  \n",
       "0        2  \n",
       "1        2  \n",
       "2        3  \n",
       "3        1  \n",
       "4        1  \n",
       "5        2  \n",
       "6        4  \n",
       "7        4  \n",
       "8        1  \n",
       "9        3  "
      ]
     },
     "execution_count": 24,
     "metadata": {},
     "output_type": "execute_result"
    }
   ],
   "source": [
    "df_merge_moon[:10]"
   ]
  },
  {
   "cell_type": "code",
   "execution_count": 25,
   "metadata": {
    "collapsed": true
   },
   "outputs": [],
   "source": [
    "df_merge_moon.to_csv('moon_phase_data.csv', sep=',', encoding='utf-8')"
   ]
  }
 ],
 "metadata": {
  "kernelspec": {
   "display_name": "Python 2",
   "language": "python",
   "name": "python2"
  },
  "language_info": {
   "codemirror_mode": {
    "name": "ipython",
    "version": 2
   },
   "file_extension": ".py",
   "mimetype": "text/x-python",
   "name": "python",
   "nbconvert_exporter": "python",
   "pygments_lexer": "ipython2",
   "version": "2.7.13"
  }
 },
 "nbformat": 4,
 "nbformat_minor": 2
}
